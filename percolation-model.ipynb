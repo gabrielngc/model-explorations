{
 "cells": [
  {
   "cell_type": "markdown",
   "id": "b6584ebf",
   "metadata": {},
   "source": [
    "# Percolation Model in 2D"
   ]
  },
  {
   "cell_type": "markdown",
   "id": "8a9878da",
   "metadata": {},
   "source": [
    "Attribution: **This notebook contains code generated with the assistance of ChatGPT, a language model developed by OpenAI.**"
   ]
  },
  {
   "cell_type": "markdown",
   "id": "03e5a95e",
   "metadata": {},
   "source": [
    "## Python Implementation"
   ]
  },
  {
   "cell_type": "code",
   "execution_count": 3,
   "id": "257dc2bd",
   "metadata": {},
   "outputs": [],
   "source": [
    "import numpy as np\n",
    "import matplotlib.pyplot as plt\n",
    "import matplotlib.colors as mcolors\n",
    "\n",
    "class UnionFind:\n",
    "    def __init__(self, size):\n",
    "        self.parent = np.arange(size)\n",
    "        self.rank = np.zeros(size, dtype=int)\n",
    "\n",
    "    def find(self, x):\n",
    "        while self.parent[x] != x:\n",
    "            self.parent[x] = self.parent[self.parent[x]]\n",
    "            x = self.parent[x]\n",
    "        return x\n",
    "\n",
    "    def union(self, x, y):\n",
    "        rx, ry = self.find(x), self.find(y)\n",
    "        if rx == ry:\n",
    "            return\n",
    "        if self.rank[rx] < self.rank[ry]:\n",
    "            self.parent[rx] = ry\n",
    "        elif self.rank[rx] > self.rank[ry]:\n",
    "            self.parent[ry] = rx\n",
    "        else:\n",
    "            self.parent[ry] = rx\n",
    "            self.rank[rx] += 1\n",
    "\n",
    "def get_clusters(grid):\n",
    "    N = grid.shape[0]\n",
    "    uf = UnionFind(N * N)\n",
    "\n",
    "    def idx(r, c):\n",
    "        return r * N + c\n",
    "\n",
    "    for r in range(N):\n",
    "        for c in range(N):\n",
    "            if not grid[r, c]:\n",
    "                continue\n",
    "            if r > 0 and grid[r - 1, c]:\n",
    "                uf.union(idx(r, c), idx(r - 1, c))\n",
    "            if c > 0 and grid[r, c - 1]:\n",
    "                uf.union(idx(r, c), idx(r, c - 1))\n",
    "\n",
    "    root_map = {}\n",
    "    cluster_id = 0\n",
    "    clusters = -np.ones_like(grid, dtype=int)\n",
    "\n",
    "    for r in range(N):\n",
    "        for c in range(N):\n",
    "            if grid[r, c]:\n",
    "                root = uf.find(idx(r, c))\n",
    "                if root not in root_map:\n",
    "                    root_map[root] = cluster_id\n",
    "                    cluster_id += 1\n",
    "                clusters[r, c] = root_map[root]\n",
    "    return clusters, cluster_id\n",
    "\n",
    "def detect_spanning(clusters):\n",
    "    N = clusters.shape[0]\n",
    "    cluster_ids = np.unique(clusters[clusters >= 0])\n",
    "    spanning_map = {}  # cluster_id -> 'spanning' or 'nonspanning'\n",
    "\n",
    "    for cid in cluster_ids:\n",
    "        positions = np.argwhere(clusters == cid)\n",
    "        rows, cols = positions[:, 0], positions[:, 1]\n",
    "        spans_vert = 0 in rows and (N - 1) in rows\n",
    "        spans_horiz = 0 in cols and (N - 1) in cols\n",
    "        if spans_vert or spans_horiz:\n",
    "            spanning_map[cid] = True\n",
    "        else:\n",
    "            spanning_map[cid] = False\n",
    "    return spanning_map\n",
    "\n",
    "def colorize_clusters(grid, clusters, spanning_map):\n",
    "    color_grid = np.zeros_like(clusters, dtype=int)  # 0: empty (black)\n",
    "\n",
    "    # Map each spanning cluster to a unique color ID starting at 2\n",
    "    span_id_map = {}\n",
    "    next_color_id = 2\n",
    "\n",
    "    for r in range(grid.shape[0]):\n",
    "        for c in range(grid.shape[1]):\n",
    "            cid = clusters[r, c]\n",
    "            if cid == -1:\n",
    "                continue  # empty cell\n",
    "            if spanning_map[cid]:\n",
    "                if cid not in span_id_map:\n",
    "                    span_id_map[cid] = next_color_id\n",
    "                    next_color_id += 1\n",
    "                color_grid[r, c] = span_id_map[cid]\n",
    "            else:\n",
    "                color_grid[r, c] = 1  # non-spanning = gray\n",
    "    return color_grid, next_color_id\n",
    "\n",
    "def build_colormap(num_colors):\n",
    "    # 0: empty (black), 1: non-spanning (gray), 2+: spanning clusters\n",
    "    base_colors = [(0, 0, 0), (0.5, 0.5, 0.5)]  # black, gray\n",
    "    if num_colors <= 2:\n",
    "        return mcolors.ListedColormap(base_colors)\n",
    "    extra_colors = plt.cm.tab10.colors + plt.cm.Set3.colors + plt.cm.Dark2.colors\n",
    "    extra_colors = extra_colors[:max(0, num_colors - 2)]\n",
    "    return mcolors.ListedColormap(base_colors + list(extra_colors))\n",
    "\n",
    "def plot_percolation(color_grid, num_colors):\n",
    "    plt.figure(figsize=(8, 8))\n",
    "    cmap = build_colormap(num_colors)\n",
    "    plt.imshow(color_grid, cmap=cmap, interpolation='none')\n",
    "    plt.axis('off')\n",
    "    plt.title(\"Percolation with Spanning Clusters Highlighted\")\n",
    "    plt.show()\n",
    "\n",
    "def main(N=100, p=0.59, seed=None):\n",
    "    if seed is not None:\n",
    "        np.random.seed(seed)\n",
    "    grid = np.random.rand(N, N) < p\n",
    "    clusters, _ = get_clusters(grid)\n",
    "    spanning_map = detect_spanning(clusters)\n",
    "    color_grid, num_colors = colorize_clusters(grid, clusters, spanning_map)\n",
    "    plot_percolation(color_grid, num_colors)\n"
   ]
  },
  {
   "cell_type": "code",
   "execution_count": 31,
   "id": "a96bdd07",
   "metadata": {},
   "outputs": [
    {
     "data": {
      "image/png": "[encoded data removed]",
      "text/plain": [
       "<Figure size 800x800 with 1 Axes>"
      ]
     },
     "metadata": {},
     "output_type": "display_data"
    }
   ],
   "source": [
    "main(N=100, p=0.60)"
   ]
  }
 ],
 "metadata": {
  "language_info": {
   "name": "python"
  }
 },
 "nbformat": 4,
 "nbformat_minor": 5
}
